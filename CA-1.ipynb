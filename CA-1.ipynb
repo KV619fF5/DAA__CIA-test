{
 "cells": [
  {
   "cell_type": "code",
   "execution_count": 1,
   "id": "9fdfbc68",
   "metadata": {},
   "outputs": [],
   "source": [
    "import numpy as np\n",
    "import random\n",
    "import pandas as pd\n",
    "from sklearn.model_selection import train_test_split as tts\n",
    "from sklearn.preprocessing import StandardScaler"
   ]
  },
  {
   "cell_type": "code",
   "execution_count": 2,
   "id": "77b6490c",
   "metadata": {},
   "outputs": [
    {
     "data": {
      "text/html": [
       "<div>\n",
       "<style scoped>\n",
       "    .dataframe tbody tr th:only-of-type {\n",
       "        vertical-align: middle;\n",
       "    }\n",
       "\n",
       "    .dataframe tbody tr th {\n",
       "        vertical-align: top;\n",
       "    }\n",
       "\n",
       "    .dataframe thead th {\n",
       "        text-align: right;\n",
       "    }\n",
       "</style>\n",
       "<table border=\"1\" class=\"dataframe\">\n",
       "  <thead>\n",
       "    <tr style=\"text-align: right;\">\n",
       "      <th></th>\n",
       "      <th>ID</th>\n",
       "      <th>Age</th>\n",
       "      <th>Experience</th>\n",
       "      <th>Income</th>\n",
       "      <th>ZIP Code</th>\n",
       "      <th>Family</th>\n",
       "      <th>CCAvg</th>\n",
       "      <th>Education</th>\n",
       "      <th>Mortgage</th>\n",
       "      <th>Personal Loan</th>\n",
       "      <th>Securities Account</th>\n",
       "      <th>CD Account</th>\n",
       "      <th>Online</th>\n",
       "      <th>CreditCard</th>\n",
       "    </tr>\n",
       "  </thead>\n",
       "  <tbody>\n",
       "    <tr>\n",
       "      <th>0</th>\n",
       "      <td>1</td>\n",
       "      <td>25</td>\n",
       "      <td>1</td>\n",
       "      <td>49</td>\n",
       "      <td>91107</td>\n",
       "      <td>4</td>\n",
       "      <td>1.6</td>\n",
       "      <td>1</td>\n",
       "      <td>0</td>\n",
       "      <td>0</td>\n",
       "      <td>1</td>\n",
       "      <td>0</td>\n",
       "      <td>0</td>\n",
       "      <td>0</td>\n",
       "    </tr>\n",
       "    <tr>\n",
       "      <th>1</th>\n",
       "      <td>2</td>\n",
       "      <td>45</td>\n",
       "      <td>19</td>\n",
       "      <td>34</td>\n",
       "      <td>90089</td>\n",
       "      <td>3</td>\n",
       "      <td>1.5</td>\n",
       "      <td>1</td>\n",
       "      <td>0</td>\n",
       "      <td>0</td>\n",
       "      <td>1</td>\n",
       "      <td>0</td>\n",
       "      <td>0</td>\n",
       "      <td>0</td>\n",
       "    </tr>\n",
       "    <tr>\n",
       "      <th>2</th>\n",
       "      <td>3</td>\n",
       "      <td>39</td>\n",
       "      <td>15</td>\n",
       "      <td>11</td>\n",
       "      <td>94720</td>\n",
       "      <td>1</td>\n",
       "      <td>1.0</td>\n",
       "      <td>1</td>\n",
       "      <td>0</td>\n",
       "      <td>0</td>\n",
       "      <td>0</td>\n",
       "      <td>0</td>\n",
       "      <td>0</td>\n",
       "      <td>0</td>\n",
       "    </tr>\n",
       "    <tr>\n",
       "      <th>3</th>\n",
       "      <td>4</td>\n",
       "      <td>35</td>\n",
       "      <td>9</td>\n",
       "      <td>100</td>\n",
       "      <td>94112</td>\n",
       "      <td>1</td>\n",
       "      <td>2.7</td>\n",
       "      <td>2</td>\n",
       "      <td>0</td>\n",
       "      <td>0</td>\n",
       "      <td>0</td>\n",
       "      <td>0</td>\n",
       "      <td>0</td>\n",
       "      <td>0</td>\n",
       "    </tr>\n",
       "    <tr>\n",
       "      <th>4</th>\n",
       "      <td>5</td>\n",
       "      <td>35</td>\n",
       "      <td>8</td>\n",
       "      <td>45</td>\n",
       "      <td>91330</td>\n",
       "      <td>4</td>\n",
       "      <td>1.0</td>\n",
       "      <td>2</td>\n",
       "      <td>0</td>\n",
       "      <td>0</td>\n",
       "      <td>0</td>\n",
       "      <td>0</td>\n",
       "      <td>0</td>\n",
       "      <td>1</td>\n",
       "    </tr>\n",
       "  </tbody>\n",
       "</table>\n",
       "</div>"
      ],
      "text/plain": [
       "   ID  Age  Experience  Income  ZIP Code  Family  CCAvg  Education  Mortgage  \\\n",
       "0   1   25           1      49     91107       4    1.6          1         0   \n",
       "1   2   45          19      34     90089       3    1.5          1         0   \n",
       "2   3   39          15      11     94720       1    1.0          1         0   \n",
       "3   4   35           9     100     94112       1    2.7          2         0   \n",
       "4   5   35           8      45     91330       4    1.0          2         0   \n",
       "\n",
       "   Personal Loan  Securities Account  CD Account  Online  CreditCard  \n",
       "0              0                   1           0       0           0  \n",
       "1              0                   1           0       0           0  \n",
       "2              0                   0           0       0           0  \n",
       "3              0                   0           0       0           0  \n",
       "4              0                   0           0       0           1  "
      ]
     },
     "execution_count": 2,
     "metadata": {},
     "output_type": "execute_result"
    }
   ],
   "source": [
    "data=pd.read_csv(r\"C:\\Users\\Kirthik\\Downloads\\Bank_Personal_Loan_Modelling.csv\")\n",
    "data.head()"
   ]
  },
  {
   "cell_type": "code",
   "execution_count": 3,
   "id": "e23109fc",
   "metadata": {},
   "outputs": [],
   "source": [
    "data.drop(['ZIP Code','ID'],axis=1,inplace=True)\n",
    "x = data.drop('Personal Loan',axis=1).values\n",
    "y = data['Personal Loan'].values"
   ]
  },
  {
   "cell_type": "code",
   "execution_count": 4,
   "id": "a40e3541",
   "metadata": {},
   "outputs": [],
   "source": [
    "xtr,xtst,ytr,ytst = tts(x,y,test_size=0.25,stratify=y,random_state=42)\n",
    "xtr.shape,xtst.shape,ytr.shape,ytst.shape\n",
    "sc = StandardScaler() \n",
    "xtr = sc.fit_transform(xtr)\n",
    "xtst = sc.transform(xtst)"
   ]
  },
  {
   "cell_type": "code",
   "execution_count": 5,
   "id": "08fd1af1",
   "metadata": {},
   "outputs": [],
   "source": [
    "class NeuralNetwork:\n",
    "    def __init__(self, num_inputs, num_hidden, num_outputs):\n",
    "        self.num_inputs = num_inputs\n",
    "        self.num_hidden = num_hidden\n",
    "        self.num_outputs = num_outputs\n",
    "\n",
    "        self.hidden_layer_weights = np.random.rand(self.num_inputs, self.num_hidden)\n",
    "        self.output_layer_weights = np.random.rand(self.num_hidden, self.num_outputs)\n",
    "    def forward(self, inputs):\n",
    "        hidden_layer_outputs = np.dot(inputs, self.hidden_layer_weights)\n",
    "        hidden_layer_outputs = np.tanh(hidden_layer_outputs)\n",
    "\n",
    "        output_layer_outputs = np.dot(hidden_layer_outputs, self.output_layer_weights)\n",
    "        output_layer_outputs = np.tanh(output_layer_outputs)\n",
    "\n",
    "        return output_layer_outputs\n",
    "    def train(self, inputs, targets, learning_rate, num_epochs, cultural_pool):\n",
    "        for epoch in range(num_epochs):\n",
    "            for i in range(len(inputs)):\n",
    "                x = inputs[i]\n",
    "                y = targets[i]\n",
    "\n",
    "                # forward pass\n",
    "                hidden_layer_outputs = np.dot(x, self.hidden_layer_weights)\n",
    "                hidden_layer_outputs = np.tanh(hidden_layer_outputs)\n",
    "\n",
    "                output_layer_outputs = np.dot(hidden_layer_outputs, self.output_layer_weights)\n",
    "                output_layer_outputs = np.tanh(output_layer_outputs)\n",
    "\n",
    "                # backward pass\n",
    "                output_layer_error = y - output_layer_outputs\n",
    "                output_layer_delta = output_layer_error * (1 - np.tanh(output_layer_outputs) ** 2)\n",
    "\n",
    "                hidden_layer_error = np.dot(output_layer_delta, self.output_layer_weights.T)\n",
    "                hidden_layer_delta = hidden_layer_error * (1 - np.tanh(hidden_layer_outputs) ** 2)\n",
    "\n",
    "                # weight update using cultural algorithm\n",
    "                self.hidden_layer_weights += learning_rate * hidden_layer_delta.reshape(-1, 1) * x.reshape(1, -1)\n",
    "                self.output_layer_weights += learning_rate * output_layer_delta.reshape(-1, 1) * hidden_layer_outputs.reshape(1, -1)\n",
    "\n",
    "                # cultural algorithm\n",
    "                for j in range(self.num_hidden):\n",
    "                    for k in range(self.num_inputs):\n",
    "                        if random.random() < cultural_pool:\n",
    "                            self.hidden_layer_weights[k][j] = random.uniform(-1, 1)\n",
    "\n",
    "                for j in range(self.num_outputs):\n",
    "                    for k in range(self.num_hidden):\n",
    "                        if random.random() < cultural_pool:\n",
    "                            self.output_layer_weights[k][j] = random.uniform(-1, 1)\n",
    "\n",
    "            # calculate error at end of epoch\n",
    "            outputs = self.forward(inputs)\n",
    "            error = np.mean(np.abs(targets - outputs))\n",
    "            print(f\"Epoch {epoch}: error = {error}\")\n"
   ]
  },
  {
   "cell_type": "code",
   "execution_count": 6,
   "id": "65059544",
   "metadata": {},
   "outputs": [],
   "source": [
    "num_inputs = xtr.shape[1]\n",
    "num_hidden = 5\n",
    "num_outputs = 1\n",
    "nn = NeuralNetwork(num_inputs, num_hidden, num_outputs)"
   ]
  },
  {
   "cell_type": "code",
   "execution_count": 7,
   "id": "37c21e7b",
   "metadata": {},
   "outputs": [
    {
     "ename": "ValueError",
     "evalue": "operands could not be broadcast together with shapes (11,5) (5,11) (11,5) ",
     "output_type": "error",
     "traceback": [
      "\u001b[1;31m---------------------------------------------------------------------------\u001b[0m",
      "\u001b[1;31mValueError\u001b[0m                                Traceback (most recent call last)",
      "Input \u001b[1;32mIn [7]\u001b[0m, in \u001b[0;36m<cell line: 4>\u001b[1;34m()\u001b[0m\n\u001b[0;32m      2\u001b[0m num_epochs \u001b[38;5;241m=\u001b[39m \u001b[38;5;241m2000\u001b[39m\n\u001b[0;32m      3\u001b[0m cultural_pool \u001b[38;5;241m=\u001b[39m \u001b[38;5;241m0.09\u001b[39m\n\u001b[1;32m----> 4\u001b[0m \u001b[43mnn\u001b[49m\u001b[38;5;241;43m.\u001b[39;49m\u001b[43mtrain\u001b[49m\u001b[43m(\u001b[49m\u001b[43mxtr\u001b[49m\u001b[43m,\u001b[49m\u001b[43m \u001b[49m\u001b[43mytr\u001b[49m\u001b[43m,\u001b[49m\u001b[43m \u001b[49m\u001b[43mlearning_rate\u001b[49m\u001b[43m,\u001b[49m\u001b[43m \u001b[49m\u001b[43mnum_epochs\u001b[49m\u001b[43m,\u001b[49m\u001b[43m \u001b[49m\u001b[43mcultural_pool\u001b[49m\u001b[43m)\u001b[49m\n",
      "Input \u001b[1;32mIn [5]\u001b[0m, in \u001b[0;36mNeuralNetwork.train\u001b[1;34m(self, inputs, targets, learning_rate, num_epochs, cultural_pool)\u001b[0m\n\u001b[0;32m     35\u001b[0m hidden_layer_delta \u001b[38;5;241m=\u001b[39m hidden_layer_error \u001b[38;5;241m*\u001b[39m (\u001b[38;5;241m1\u001b[39m \u001b[38;5;241m-\u001b[39m np\u001b[38;5;241m.\u001b[39mtanh(hidden_layer_outputs) \u001b[38;5;241m*\u001b[39m\u001b[38;5;241m*\u001b[39m \u001b[38;5;241m2\u001b[39m)\n\u001b[0;32m     37\u001b[0m \u001b[38;5;66;03m# weight update using cultural algorithm\u001b[39;00m\n\u001b[1;32m---> 38\u001b[0m \u001b[38;5;28mself\u001b[39m\u001b[38;5;241m.\u001b[39mhidden_layer_weights \u001b[38;5;241m+\u001b[39m\u001b[38;5;241m=\u001b[39m learning_rate \u001b[38;5;241m*\u001b[39m hidden_layer_delta\u001b[38;5;241m.\u001b[39mreshape(\u001b[38;5;241m-\u001b[39m\u001b[38;5;241m1\u001b[39m, \u001b[38;5;241m1\u001b[39m) \u001b[38;5;241m*\u001b[39m x\u001b[38;5;241m.\u001b[39mreshape(\u001b[38;5;241m1\u001b[39m, \u001b[38;5;241m-\u001b[39m\u001b[38;5;241m1\u001b[39m)\n\u001b[0;32m     39\u001b[0m \u001b[38;5;28mself\u001b[39m\u001b[38;5;241m.\u001b[39moutput_layer_weights \u001b[38;5;241m+\u001b[39m\u001b[38;5;241m=\u001b[39m learning_rate \u001b[38;5;241m*\u001b[39m output_layer_delta\u001b[38;5;241m.\u001b[39mreshape(\u001b[38;5;241m-\u001b[39m\u001b[38;5;241m1\u001b[39m, \u001b[38;5;241m1\u001b[39m) \u001b[38;5;241m*\u001b[39m hidden_layer_outputs\u001b[38;5;241m.\u001b[39mreshape(\u001b[38;5;241m1\u001b[39m, \u001b[38;5;241m-\u001b[39m\u001b[38;5;241m1\u001b[39m)\n\u001b[0;32m     41\u001b[0m \u001b[38;5;66;03m# cultural algorithm\u001b[39;00m\n",
      "\u001b[1;31mValueError\u001b[0m: operands could not be broadcast together with shapes (11,5) (5,11) (11,5) "
     ]
    }
   ],
   "source": [
    "learning_rate = 0.9\n",
    "num_epochs = 2000\n",
    "cultural_pool = 0.09\n",
    "nn.train(xtr, ytr, learning_rate, num_epochs, cultural_pool)"
   ]
  },
  {
   "cell_type": "code",
   "execution_count": 8,
   "id": "5f1ef3da",
   "metadata": {},
   "outputs": [],
   "source": [
    "predictions = nn.forward(xtst)"
   ]
  },
  {
   "cell_type": "code",
   "execution_count": 9,
   "id": "5a36351c",
   "metadata": {},
   "outputs": [],
   "source": [
    "predictions_binary = np.where(predictions >= 0, 1, 0)"
   ]
  },
  {
   "cell_type": "code",
   "execution_count": 10,
   "id": "c8444915",
   "metadata": {},
   "outputs": [
    {
     "name": "stdout",
     "output_type": "stream",
     "text": [
      "Accuracy we got is: 0.6136\n"
     ]
    }
   ],
   "source": [
    "accuracy = np.mean(predictions_binary == ytst.reshape(-1, 1))\n",
    "print(f\"Accuracy we got is: {accuracy}\")"
   ]
  },
  {
   "cell_type": "code",
   "execution_count": null,
   "id": "92698294",
   "metadata": {},
   "outputs": [],
   "source": []
  },
  {
   "cell_type": "code",
   "execution_count": null,
   "id": "65c2c9e1",
   "metadata": {},
   "outputs": [],
   "source": []
  },
  {
   "cell_type": "code",
   "execution_count": null,
   "id": "ac591568",
   "metadata": {},
   "outputs": [],
   "source": []
  }
 ],
 "metadata": {
  "kernelspec": {
   "display_name": "Python 3 (ipykernel)",
   "language": "python",
   "name": "python3"
  },
  "language_info": {
   "codemirror_mode": {
    "name": "ipython",
    "version": 3
   },
   "file_extension": ".py",
   "mimetype": "text/x-python",
   "name": "python",
   "nbconvert_exporter": "python",
   "pygments_lexer": "ipython3",
   "version": "3.9.12"
  }
 },
 "nbformat": 4,
 "nbformat_minor": 5
}
