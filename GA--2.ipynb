{
 "cells": [
  {
   "cell_type": "code",
   "execution_count": 73,
   "id": "e427c665",
   "metadata": {},
   "outputs": [],
   "source": [
    "import numpy as np \n",
    "import pandas as pd\n",
    "from sklearn.model_selection import train_test_split as tts\n",
    "from sklearn.preprocessing import StandardScaler"
   ]
  },
  {
   "cell_type": "code",
   "execution_count": 74,
   "id": "64cf88b7",
   "metadata": {},
   "outputs": [
    {
     "data": {
      "text/html": [
       "<div>\n",
       "<style scoped>\n",
       "    .dataframe tbody tr th:only-of-type {\n",
       "        vertical-align: middle;\n",
       "    }\n",
       "\n",
       "    .dataframe tbody tr th {\n",
       "        vertical-align: top;\n",
       "    }\n",
       "\n",
       "    .dataframe thead th {\n",
       "        text-align: right;\n",
       "    }\n",
       "</style>\n",
       "<table border=\"1\" class=\"dataframe\">\n",
       "  <thead>\n",
       "    <tr style=\"text-align: right;\">\n",
       "      <th></th>\n",
       "      <th>ID</th>\n",
       "      <th>Age</th>\n",
       "      <th>Experience</th>\n",
       "      <th>Income</th>\n",
       "      <th>ZIP Code</th>\n",
       "      <th>Family</th>\n",
       "      <th>CCAvg</th>\n",
       "      <th>Education</th>\n",
       "      <th>Mortgage</th>\n",
       "      <th>Personal Loan</th>\n",
       "      <th>Securities Account</th>\n",
       "      <th>CD Account</th>\n",
       "      <th>Online</th>\n",
       "      <th>CreditCard</th>\n",
       "    </tr>\n",
       "  </thead>\n",
       "  <tbody>\n",
       "    <tr>\n",
       "      <th>0</th>\n",
       "      <td>1</td>\n",
       "      <td>25</td>\n",
       "      <td>1</td>\n",
       "      <td>49</td>\n",
       "      <td>91107</td>\n",
       "      <td>4</td>\n",
       "      <td>1.6</td>\n",
       "      <td>1</td>\n",
       "      <td>0</td>\n",
       "      <td>0</td>\n",
       "      <td>1</td>\n",
       "      <td>0</td>\n",
       "      <td>0</td>\n",
       "      <td>0</td>\n",
       "    </tr>\n",
       "    <tr>\n",
       "      <th>1</th>\n",
       "      <td>2</td>\n",
       "      <td>45</td>\n",
       "      <td>19</td>\n",
       "      <td>34</td>\n",
       "      <td>90089</td>\n",
       "      <td>3</td>\n",
       "      <td>1.5</td>\n",
       "      <td>1</td>\n",
       "      <td>0</td>\n",
       "      <td>0</td>\n",
       "      <td>1</td>\n",
       "      <td>0</td>\n",
       "      <td>0</td>\n",
       "      <td>0</td>\n",
       "    </tr>\n",
       "    <tr>\n",
       "      <th>2</th>\n",
       "      <td>3</td>\n",
       "      <td>39</td>\n",
       "      <td>15</td>\n",
       "      <td>11</td>\n",
       "      <td>94720</td>\n",
       "      <td>1</td>\n",
       "      <td>1.0</td>\n",
       "      <td>1</td>\n",
       "      <td>0</td>\n",
       "      <td>0</td>\n",
       "      <td>0</td>\n",
       "      <td>0</td>\n",
       "      <td>0</td>\n",
       "      <td>0</td>\n",
       "    </tr>\n",
       "    <tr>\n",
       "      <th>3</th>\n",
       "      <td>4</td>\n",
       "      <td>35</td>\n",
       "      <td>9</td>\n",
       "      <td>100</td>\n",
       "      <td>94112</td>\n",
       "      <td>1</td>\n",
       "      <td>2.7</td>\n",
       "      <td>2</td>\n",
       "      <td>0</td>\n",
       "      <td>0</td>\n",
       "      <td>0</td>\n",
       "      <td>0</td>\n",
       "      <td>0</td>\n",
       "      <td>0</td>\n",
       "    </tr>\n",
       "    <tr>\n",
       "      <th>4</th>\n",
       "      <td>5</td>\n",
       "      <td>35</td>\n",
       "      <td>8</td>\n",
       "      <td>45</td>\n",
       "      <td>91330</td>\n",
       "      <td>4</td>\n",
       "      <td>1.0</td>\n",
       "      <td>2</td>\n",
       "      <td>0</td>\n",
       "      <td>0</td>\n",
       "      <td>0</td>\n",
       "      <td>0</td>\n",
       "      <td>0</td>\n",
       "      <td>1</td>\n",
       "    </tr>\n",
       "  </tbody>\n",
       "</table>\n",
       "</div>"
      ],
      "text/plain": [
       "   ID  Age  Experience  Income  ZIP Code  Family  CCAvg  Education  Mortgage  \\\n",
       "0   1   25           1      49     91107       4    1.6          1         0   \n",
       "1   2   45          19      34     90089       3    1.5          1         0   \n",
       "2   3   39          15      11     94720       1    1.0          1         0   \n",
       "3   4   35           9     100     94112       1    2.7          2         0   \n",
       "4   5   35           8      45     91330       4    1.0          2         0   \n",
       "\n",
       "   Personal Loan  Securities Account  CD Account  Online  CreditCard  \n",
       "0              0                   1           0       0           0  \n",
       "1              0                   1           0       0           0  \n",
       "2              0                   0           0       0           0  \n",
       "3              0                   0           0       0           0  \n",
       "4              0                   0           0       0           1  "
      ]
     },
     "execution_count": 74,
     "metadata": {},
     "output_type": "execute_result"
    }
   ],
   "source": [
    "data=pd.read_csv(r\"C:\\Users\\Kirthik\\Downloads\\Bank_Personal_Loan_Modelling.csv\")\n",
    "data.head()"
   ]
  },
  {
   "cell_type": "code",
   "execution_count": 75,
   "id": "0a4f068e",
   "metadata": {},
   "outputs": [],
   "source": [
    "data.drop(['ZIP Code','ID'],axis=1,inplace=True)\n",
    "x = data.drop('Personal Loan',axis=1).values\n",
    "y = data['Personal Loan'].values"
   ]
  },
  {
   "cell_type": "code",
   "execution_count": 76,
   "id": "1745828e",
   "metadata": {},
   "outputs": [],
   "source": [
    "xtr,xtst,ytr,ytst = tts(x,y,test_size=0.25,stratify=y,random_state=42)\n",
    "xtr.shape,xtst.shape,ytr.shape,ytst.shape\n",
    "sc = StandardScaler()\n",
    "xtr = sc.fit_transform(xtr)\n",
    "xtst = sc.transform(xtst)"
   ]
  },
  {
   "cell_type": "code",
   "execution_count": 77,
   "id": "efa79718",
   "metadata": {},
   "outputs": [],
   "source": [
    "# Define the neural network architecture\n",
    "input_layer_size = 11\n",
    "hidden_layer_size = 6\n",
    "output_layer_size = 1\n"
   ]
  },
  {
   "cell_type": "code",
   "execution_count": null,
   "id": "185dd73d",
   "metadata": {},
   "outputs": [],
   "source": []
  },
  {
   "cell_type": "code",
   "execution_count": 78,
   "id": "330901e0",
   "metadata": {},
   "outputs": [],
   "source": [
    "# Initialize the weight matrix\n",
    "w1 = np.random.randn(input_layer_size, hidden_layer_size)\n",
    "w2 = np.random.randn(hidden_layer_size, output_layer_size)\n"
   ]
  },
  {
   "cell_type": "code",
   "execution_count": 79,
   "id": "c34e197b",
   "metadata": {},
   "outputs": [],
   "source": [
    "# Define the activation function\n",
    "def sigmoid(z):\n",
    "    return 1 / (1 + np.exp(-z))"
   ]
  },
  {
   "cell_type": "code",
   "execution_count": 80,
   "id": "9b205736",
   "metadata": {},
   "outputs": [],
   "source": [
    "\n",
    "def fitness_function(weights):\n",
    "    # Reshape the weights to match the neural network architecture\n",
    "    w1 = np.reshape(weights[:130], (13, 10))\n",
    "    w2 = np.reshape(weights[130:], (10, 1))"
   ]
  },
  {
   "cell_type": "code",
   "execution_count": 81,
   "id": "0b49fc53",
   "metadata": {},
   "outputs": [
    {
     "data": {
      "text/plain": [
       "(11, 6)"
      ]
     },
     "execution_count": 81,
     "metadata": {},
     "output_type": "execute_result"
    }
   ],
   "source": [
    "w1.shape"
   ]
  },
  {
   "cell_type": "code",
   "execution_count": 82,
   "id": "64a744b5",
   "metadata": {},
   "outputs": [
    {
     "name": "stderr",
     "output_type": "stream",
     "text": [
      "C:\\Users\\Kirthik\\AppData\\Local\\Temp\\ipykernel_15520\\3871267243.py:3: RuntimeWarning: overflow encountered in exp\n",
      "  return 1 / (1 + np.exp(-z))\n"
     ]
    }
   ],
   "source": [
    "z2 = np.dot(x, w1)\n",
    "a2 = sigmoid(z2)\n",
    "z3 = np.dot(a2, w2)\n",
    "y_hat = sigmoid(z3)"
   ]
  },
  {
   "cell_type": "code",
   "execution_count": 83,
   "id": "ebcf9a5b",
   "metadata": {},
   "outputs": [],
   "source": [
    "  # Calculate the fitness as the mean squared error\n",
    "fitness = lambda y : np.mean((y - y_hat) ** 2)"
   ]
  },
  {
   "cell_type": "code",
   "execution_count": 84,
   "id": "90b8e83b",
   "metadata": {},
   "outputs": [],
   "source": [
    "population_size = 500\n",
    "mutation_rate = 0.02\n",
    "num_generations = 50"
   ]
  },
  {
   "cell_type": "code",
   "execution_count": 85,
   "id": "58a448d7",
   "metadata": {},
   "outputs": [],
   "source": [
    "# Initialize the population\n",
    "population = np.random.randn(population_size, 140)"
   ]
  },
  {
   "cell_type": "code",
   "execution_count": 86,
   "id": "28a148fe",
   "metadata": {},
   "outputs": [],
   "source": [
    "# Train the neural network using genetic algorithm\n",
    "for generation in range(num_generations):\n",
    "    # Calculate the fitness for each individual in the population\n",
    "    fitness = np.zeros(population_size)\n",
    "    for i in range(population_size):\n",
    "        fitness[i] = fitness_function(population[i])\n",
    "    "
   ]
  },
  {
   "cell_type": "code",
   "execution_count": 87,
   "id": "e8f7f298",
   "metadata": {},
   "outputs": [],
   "source": [
    "\n",
    "    # Select the parents for crossover using tournament selection\n",
    "    parents = np.zeros((population_size, 140))\n",
    "    for i in range(population_size):\n",
    "        tournament_indices = np.random.randint(0, population_size, size=2)\n",
    "        tournament_fitness = fitness[tournament_indices]\n",
    "        parent_index = tournament_indices[np.argmin(tournament_fitness)]\n",
    "        parents[i] = population[parent_index]\n",
    "    "
   ]
  },
  {
   "cell_type": "code",
   "execution_count": 88,
   "id": "75ccb106",
   "metadata": {},
   "outputs": [],
   "source": [
    "# Perform crossover and mutation\n",
    "offspring = np.zeros((population_size, 140))\n",
    "for i in range(population_size):\n",
    "        parent1_index = i\n",
    "        parent2_index = (i + 1) % population_size\n",
    "        parent1 = parents[parent1_index]\n",
    "        parent2 = parents[parent2_index]\n",
    "        offspring[i, :130] = parent1[:130]\n",
    "        offspring[i, 130:] = parent2[130:]\n",
    "        if np.random.rand() < mutation_rate:\n",
    "            offspring[i] += np.random.randn(140)"
   ]
  },
  {
   "cell_type": "code",
   "execution_count": 89,
   "id": "a7dd8f05",
   "metadata": {},
   "outputs": [],
   "source": [
    "# Evaluate the fitness of the offspring\n",
    "offspring_fitness = np.zeros(population_size)\n",
    "for i in range(population_size):\n",
    "    offspring_fitness[i] = fitness_function(offspring[i])"
   ]
  },
  {
   "cell_type": "code",
   "execution_count": 90,
   "id": "b5c1c3b4",
   "metadata": {},
   "outputs": [],
   "source": [
    "  # Replace the population with the fittest individuals\n",
    "fittest_indices = np.argsort(offspring_fitness)[:population_size]\n",
    "population = offspring[fittest_indices]\n",
    "    "
   ]
  },
  {
   "cell_type": "code",
   "execution_count": 91,
   "id": "d2114ae8",
   "metadata": {},
   "outputs": [
    {
     "name": "stdout",
     "output_type": "stream",
     "text": [
      "Generation 49: [ 0.98939498 -1.44364233  0.27413493 -0.13525865  0.47930932 -0.56851707\n",
      "  0.6310461   0.00894269 -1.025696    0.53616668 -1.23491402 -0.53783534\n",
      "  0.85888907  0.31728465 -0.45535721  0.08520337 -0.4327034  -1.15694545\n",
      "  0.95504993  0.4703395   1.45968067 -0.81094781  0.34114607 -0.74645912\n",
      " -0.45947149 -0.44298526 -0.57440151 -1.21363876  3.49368177  1.49741752\n",
      " -0.18972831  0.41713328 -0.25904223 -1.7158038  -1.41439712 -1.50965644\n",
      "  0.62729657 -0.6331352  -2.20971502 -0.10511547  1.65624994  0.52970559\n",
      "  1.04443725 -0.27967353 -1.53371465  0.32120557  1.3109299  -0.8172815\n",
      " -0.63204941  0.83794413 -0.32461734  0.54703152  0.60179896 -0.47089725\n",
      "  0.74498959  0.46088511 -0.66140023 -1.85369717 -1.3460545   0.56573525\n",
      " -1.48838133 -1.26205496  1.16287157 -0.72535736 -0.42714608  1.5480601\n",
      " -0.10998326  1.18604559 -0.99574551 -1.16079985  0.77117206  1.40865103\n",
      " -0.22607916 -0.21122886 -1.47272972 -1.38260899  0.53734219  0.97481838\n",
      " -1.33670678 -1.84373866 -0.45142058 -0.51529764  1.02246575  1.03095614\n",
      "  0.80044247 -0.16455179 -1.660739   -0.49943449 -1.03266733  0.11799135\n",
      "  1.3745115   0.3115482  -0.07661575 -1.8460833  -0.30334588  0.89203782\n",
      "  0.52515365  0.28091614  0.94721164 -0.32930752 -0.00614065  0.66629329\n",
      "  0.00847776 -2.23600559 -0.51101601  0.65031678  0.16873184  0.04553557\n",
      " -0.03680851 -0.42489913 -0.64326164  0.62536977  0.35575069  0.28730053\n",
      " -0.26468453 -0.4834259   0.95235136 -0.39687048  1.18923222 -0.04623372\n",
      "  0.553475   -1.5478477   0.08003095  1.39541501  0.06891211  0.26792075\n",
      "  0.05971203 -0.33245495 -0.73737575 -0.63786884  0.68982649  0.01655499\n",
      "  0.70174266 -0.19377453 -2.98818286  1.99883093 -0.21679689 -0.71626215\n",
      "  0.1646235  -1.43274932]\n"
     ]
    }
   ],
   "source": [
    "    # Print the fittest individual for each generation\n",
    "print(f\"Generation {generation}: {population[0]}\")"
   ]
  },
  {
   "cell_type": "code",
   "execution_count": 92,
   "id": "e84ce798",
   "metadata": {},
   "outputs": [],
   "source": [
    "# Extract the fittest individual\n",
    "fittest_individual = population[0]\n",
    "w1 = np.reshape(fittest_individual[:130], (13, 10))\n",
    "w2 = np.reshape(fittest_individual[130:], (10, 1))\n"
   ]
  },
  {
   "cell_type": "code",
   "execution_count": 99,
   "id": "d198535a",
   "metadata": {},
   "outputs": [
    {
     "ename": "ValueError",
     "evalue": "shapes (1250,11) and (13,10) not aligned: 11 (dim 1) != 13 (dim 0)",
     "output_type": "error",
     "traceback": [
      "\u001b[1;31m---------------------------------------------------------------------------\u001b[0m",
      "\u001b[1;31mValueError\u001b[0m                                Traceback (most recent call last)",
      "Input \u001b[1;32mIn [99]\u001b[0m, in \u001b[0;36m<cell line: 3>\u001b[1;34m()\u001b[0m\n\u001b[0;32m      1\u001b[0m \u001b[38;5;66;03m# Evaluate the fittest individual on a test input\u001b[39;00m\n\u001b[0;32m      2\u001b[0m x_test \u001b[38;5;241m=\u001b[39m xtst\n\u001b[1;32m----> 3\u001b[0m z2_test \u001b[38;5;241m=\u001b[39m \u001b[43mnp\u001b[49m\u001b[38;5;241;43m.\u001b[39;49m\u001b[43mdot\u001b[49m\u001b[43m(\u001b[49m\u001b[43mxtst\u001b[49m\u001b[43m,\u001b[49m\u001b[43m \u001b[49m\u001b[43mw1\u001b[49m\u001b[43m)\u001b[49m\n\u001b[0;32m      4\u001b[0m a2_test \u001b[38;5;241m=\u001b[39m sigmoid(z2_test)\n\u001b[0;32m      5\u001b[0m z3_test \u001b[38;5;241m=\u001b[39m np\u001b[38;5;241m.\u001b[39mdot(a2_test, w2)\n",
      "File \u001b[1;32m<__array_function__ internals>:5\u001b[0m, in \u001b[0;36mdot\u001b[1;34m(*args, **kwargs)\u001b[0m\n",
      "\u001b[1;31mValueError\u001b[0m: shapes (1250,11) and (13,10) not aligned: 11 (dim 1) != 13 (dim 0)"
     ]
    }
   ],
   "source": [
    "# Evaluate the fittest individual on a test input\n",
    "x_test = xtst\n",
    "z2_test = np.dot(xtst, w1)\n",
    "a2_test = sigmoid(z2_test)\n",
    "z3_test = np.dot(a2_test, w2)\n",
    "y_hat_test = sigmoid(z3_test)\n",
    "print(\"Test Output:\")\n",
    "print(y_hat_test)\n"
   ]
  },
  {
   "cell_type": "code",
   "execution_count": 100,
   "id": "7e89d561",
   "metadata": {},
   "outputs": [],
   "source": [
    "ans = np.round(y_hat_test)"
   ]
  },
  {
   "cell_type": "code",
   "execution_count": 101,
   "id": "c5ff2b9a",
   "metadata": {},
   "outputs": [],
   "source": [
    "from sklearn.metrics import classification_report"
   ]
  },
  {
   "cell_type": "code",
   "execution_count": 102,
   "id": "74edc642",
   "metadata": {},
   "outputs": [
    {
     "name": "stdout",
     "output_type": "stream",
     "text": [
      "              precision    recall  f1-score   support\n",
      "\n",
      "         0.0       0.65      0.93      0.76       784\n",
      "         1.0       0.57      0.15      0.23       466\n",
      "\n",
      "    accuracy                           0.64      1250\n",
      "   macro avg       0.61      0.54      0.50      1250\n",
      "weighted avg       0.62      0.64      0.57      1250\n",
      "\n"
     ]
    }
   ],
   "source": [
    "print(classification_report(ans,ytst))"
   ]
  },
  {
   "cell_type": "code",
   "execution_count": null,
   "id": "1867d4eb",
   "metadata": {},
   "outputs": [],
   "source": []
  },
  {
   "cell_type": "code",
   "execution_count": null,
   "id": "0093c400",
   "metadata": {},
   "outputs": [],
   "source": []
  },
  {
   "cell_type": "code",
   "execution_count": null,
   "id": "f92b67f7",
   "metadata": {},
   "outputs": [],
   "source": []
  }
 ],
 "metadata": {
  "kernelspec": {
   "display_name": "Python 3 (ipykernel)",
   "language": "python",
   "name": "python3"
  },
  "language_info": {
   "codemirror_mode": {
    "name": "ipython",
    "version": 3
   },
   "file_extension": ".py",
   "mimetype": "text/x-python",
   "name": "python",
   "nbconvert_exporter": "python",
   "pygments_lexer": "ipython3",
   "version": "3.9.12"
  }
 },
 "nbformat": 4,
 "nbformat_minor": 5
}
